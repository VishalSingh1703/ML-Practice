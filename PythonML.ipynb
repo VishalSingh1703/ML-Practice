{
  "nbformat": 4,
  "nbformat_minor": 0,
  "metadata": {
    "colab": {
      "provenance": [],
      "authorship_tag": "ABX9TyPp7evmg/KQf/nEK845c9JC",
      "include_colab_link": true
    },
    "kernelspec": {
      "name": "python3",
      "display_name": "Python 3"
    },
    "language_info": {
      "name": "python"
    }
  },
  "cells": [
    {
      "cell_type": "markdown",
      "metadata": {
        "id": "view-in-github",
        "colab_type": "text"
      },
      "source": [
        "<a href=\"https://colab.research.google.com/github/VishalSingh1703/ML-Practice/blob/main/PythonML.ipynb\" target=\"_parent\"><img src=\"https://colab.research.google.com/assets/colab-badge.svg\" alt=\"Open In Colab\"/></a>"
      ]
    },
    {
      "cell_type": "code",
      "execution_count": 2,
      "metadata": {
        "colab": {
          "base_uri": "https://localhost:8080/"
        },
        "id": "GMirCRvVWC7u",
        "outputId": "f14fa701-5bd7-465d-9a23-184db86ea2b0"
      },
      "outputs": [
        {
          "output_type": "execute_result",
          "data": {
            "text/plain": [
              "20"
            ]
          },
          "metadata": {},
          "execution_count": 2
        }
      ],
      "source": [
        "fun = lambda x : x**2 - x\n",
        "fun(5)"
      ]
    },
    {
      "cell_type": "code",
      "source": [
        "import random\n",
        "\n",
        "x = random.randint(1, 10)\n",
        "print(\"x is large\") if x>5 else print(\"x is small\")\n",
        "\n",
        "lst = [ i**2 for i in range(10) if i>5]\n",
        "lst"
      ],
      "metadata": {
        "colab": {
          "base_uri": "https://localhost:8080/"
        },
        "id": "o2nkyupEWRGM",
        "outputId": "b162361f-9403-4bfb-c773-546b5971dcec"
      },
      "execution_count": 18,
      "outputs": [
        {
          "output_type": "stream",
          "name": "stdout",
          "text": [
            "x is small\n"
          ]
        },
        {
          "output_type": "execute_result",
          "data": {
            "text/plain": [
              "[36, 49, 64, 81]"
            ]
          },
          "metadata": {},
          "execution_count": 18
        }
      ]
    },
    {
      "cell_type": "code",
      "source": [
        "txt = ['hello', 'hi', 'why', 'you', 'guy']\n",
        "t = [i[0] for i in txt]\n",
        "t"
      ],
      "metadata": {
        "colab": {
          "base_uri": "https://localhost:8080/"
        },
        "id": "z1GTdSTTX1Fd",
        "outputId": "a6f9bcd9-a095-495f-ddca-b0972beed19c"
      },
      "execution_count": 22,
      "outputs": [
        {
          "output_type": "execute_result",
          "data": {
            "text/plain": [
              "['h', 'h', 'w', 'y', 'g']"
            ]
          },
          "metadata": {},
          "execution_count": 22
        }
      ]
    },
    {
      "cell_type": "code",
      "source": [
        "newlist = [' ']*10\n",
        "\n",
        "for i in range(10):\n",
        "  if i%2 == 1:\n",
        "    newlist[i] = 'odd'\n",
        "  else:\n",
        "    newlist[i] = 'i'\n",
        "\n",
        "newlist = [i if i%2 == 0 else 'odd' for i in range(10)]\n",
        "\n",
        "newlist"
      ],
      "metadata": {
        "colab": {
          "base_uri": "https://localhost:8080/"
        },
        "id": "kfJQOE_fYPuS",
        "outputId": "c74e0d1f-879b-4d14-9d2c-8a8907dc9b37"
      },
      "execution_count": 26,
      "outputs": [
        {
          "output_type": "execute_result",
          "data": {
            "text/plain": [
              "[0, 'odd', 2, 'odd', 4, 'odd', 6, 'odd', 8, 'odd']"
            ]
          },
          "metadata": {},
          "execution_count": 26
        }
      ]
    },
    {
      "cell_type": "code",
      "source": [
        "import numpy as np\n",
        "\n",
        "x = np.array (\n",
        "    [\n",
        "        [1, 2, 3],\n",
        "        [2, 3, 4],\n",
        "        [3, 4, 5],\n",
        "        [4, 5, 6]\n",
        "    ]\n",
        ")\n",
        "\n",
        "z = np.array([10, 20, 30])\n",
        "x.shape # returns the dimensions of the vector, in this case 4, 3\n",
        "y = np.zeros(x.shape)\n",
        "for i in range(x.shape[0]):\n",
        "  y[i:] = x[i:] + z\n",
        "\n",
        "\n"
      ],
      "metadata": {
        "id": "vdUtgEBgZl66"
      },
      "execution_count": 45,
      "outputs": []
    },
    {
      "cell_type": "code",
      "source": [
        "v = np.array([-1, 0, 1, 0], ndmin = 2).T\n",
        "\n",
        "print(x)\n",
        "print(v)\n",
        "print(x+v)\n",
        "print(x*v)"
      ],
      "metadata": {
        "colab": {
          "base_uri": "https://localhost:8080/"
        },
        "id": "jZTxIl6zgclQ",
        "outputId": "fb7ffac2-1f32-424c-8713-2384e319cc0d"
      },
      "execution_count": 57,
      "outputs": [
        {
          "output_type": "stream",
          "name": "stdout",
          "text": [
            "[[1 2 3]\n",
            " [2 3 4]\n",
            " [3 4 5]\n",
            " [4 5 6]]\n",
            "[[-1]\n",
            " [ 0]\n",
            " [ 1]\n",
            " [ 0]]\n",
            "[[0 1 2]\n",
            " [2 3 4]\n",
            " [4 5 6]\n",
            " [4 5 6]]\n",
            "[[-1 -2 -3]\n",
            " [ 0  0  0]\n",
            " [ 3  4  5]\n",
            " [ 0  0  0]]\n"
          ]
        }
      ]
    },
    {
      "cell_type": "code",
      "source": [
        "M = np.arange(9)\n",
        "M = np.reshape(M, (3, 3 ))\n",
        "print(M), print(' ')\n",
        "\n",
        "c = np.tile(M, (3, 1))\n",
        "print(c), print(' ')\n"
      ],
      "metadata": {
        "colab": {
          "base_uri": "https://localhost:8080/"
        },
        "id": "yZN-1mTujZAK",
        "outputId": "60633d5a-8eeb-41f1-9a0c-e8dce53ed533"
      },
      "execution_count": 68,
      "outputs": [
        {
          "output_type": "stream",
          "name": "stdout",
          "text": [
            "[[0 1 2]\n",
            " [3 4 5]\n",
            " [6 7 8]]\n",
            " \n",
            "[[0 1 2]\n",
            " [3 4 5]\n",
            " [6 7 8]\n",
            " [0 1 2]\n",
            " [3 4 5]\n",
            " [6 7 8]\n",
            " [0 1 2]\n",
            " [3 4 5]\n",
            " [6 7 8]]\n",
            " \n"
          ]
        },
        {
          "output_type": "execute_result",
          "data": {
            "text/plain": [
              "(None, None)"
            ]
          },
          "metadata": {},
          "execution_count": 68
        }
      ]
    },
    {
      "cell_type": "code",
      "source": [
        "import string\n",
        "letters = string.ascii_lowercase\n",
        "\n",
        "for i in range(len(letters)):\n",
        "  print(f'{letters[i]} is the {i+1}th letter')"
      ],
      "metadata": {
        "colab": {
          "base_uri": "https://localhost:8080/"
        },
        "id": "5dYDhZclnUjp",
        "outputId": "6ec4f46a-d8d1-4dab-afa4-036c2f1257fe"
      },
      "execution_count": 76,
      "outputs": [
        {
          "output_type": "stream",
          "name": "stdout",
          "text": [
            "a is the 1th letter\n",
            "b is the 2th letter\n",
            "c is the 3th letter\n",
            "d is the 4th letter\n",
            "e is the 5th letter\n",
            "f is the 6th letter\n",
            "g is the 7th letter\n",
            "h is the 8th letter\n",
            "i is the 9th letter\n",
            "j is the 10th letter\n",
            "k is the 11th letter\n",
            "l is the 12th letter\n",
            "m is the 13th letter\n",
            "n is the 14th letter\n",
            "o is the 15th letter\n",
            "p is the 16th letter\n",
            "q is the 17th letter\n",
            "r is the 18th letter\n",
            "s is the 19th letter\n",
            "t is the 20th letter\n",
            "u is the 21th letter\n",
            "v is the 22th letter\n",
            "w is the 23th letter\n",
            "x is the 24th letter\n",
            "y is the 25th letter\n",
            "z is the 26th letter\n"
          ]
        }
      ]
    }
  ]
}