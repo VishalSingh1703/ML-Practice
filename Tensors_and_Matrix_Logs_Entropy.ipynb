{
  "nbformat": 4,
  "nbformat_minor": 0,
  "metadata": {
    "colab": {
      "provenance": [],
      "authorship_tag": "ABX9TyPdcDIzB/Yi9XwNQPLw0fBG",
      "include_colab_link": true
    },
    "kernelspec": {
      "name": "python3",
      "display_name": "Python 3"
    },
    "language_info": {
      "name": "python"
    }
  },
  "cells": [
    {
      "cell_type": "markdown",
      "metadata": {
        "id": "view-in-github",
        "colab_type": "text"
      },
      "source": [
        "<a href=\"https://colab.research.google.com/github/VishalSingh1703/ML-Practice/blob/main/Tensors_and_Matrix_Logs_Entropy.ipynb\" target=\"_parent\"><img src=\"https://colab.research.google.com/assets/colab-badge.svg\" alt=\"Open In Colab\"/></a>"
      ]
    },
    {
      "cell_type": "code",
      "execution_count": 22,
      "metadata": {
        "id": "Vh221HE3fWHY"
      },
      "outputs": [],
      "source": [
        "import numpy as np\n",
        "import torch\n",
        "import torch.nn as nn\n",
        "import torch.nn.functional as F\n",
        "import matplotlib.pyplot as plt"
      ]
    },
    {
      "cell_type": "markdown",
      "source": [
        "Dot Product"
      ],
      "metadata": {
        "id": "lFY8Hzizhu3n"
      }
    },
    {
      "cell_type": "code",
      "source": [
        "v = np.array([1, 0, 2, 5, -2])\n",
        "w = np.array([2, 8, -6, 1, 0])\n",
        "\n",
        "print(np.dot(v, w)) # using the dot product from np\n",
        "print(np.sum(v * w)) # summing up the products"
      ],
      "metadata": {
        "colab": {
          "base_uri": "https://localhost:8080/"
        },
        "id": "BU2Vnxkefegj",
        "outputId": "97a472c0-4c78-4577-d380-064b6dea3454"
      },
      "execution_count": 2,
      "outputs": [
        {
          "output_type": "stream",
          "name": "stdout",
          "text": [
            "-5\n",
            "-5\n"
          ]
        }
      ]
    },
    {
      "cell_type": "markdown",
      "source": [
        "Dot Product"
      ],
      "metadata": {
        "id": "d2677plLhtdh"
      }
    },
    {
      "cell_type": "code",
      "source": [
        "v = torch.tensor([1, 0, 2, 5, -2])\n",
        "w = torch.tensor([2, 8, -6, 1, 0])\n",
        "\n",
        "print(torch.dot(v, w))\n",
        "print(torch.sum(v * w))"
      ],
      "metadata": {
        "colab": {
          "base_uri": "https://localhost:8080/"
        },
        "id": "xj-InRvVgElz",
        "outputId": "5f0552bf-ac49-4c2f-9371-ff44db2aa6e4"
      },
      "execution_count": 3,
      "outputs": [
        {
          "output_type": "stream",
          "name": "stdout",
          "text": [
            "tensor(-5)\n",
            "tensor(-5)\n"
          ]
        }
      ]
    },
    {
      "cell_type": "markdown",
      "source": [
        "Matrix Multiplication"
      ],
      "metadata": {
        "id": "g5B30rt9hxWw"
      }
    },
    {
      "cell_type": "code",
      "source": [
        "a = np.random.randn(5, 4)\n",
        "b = np.random.randn(4, 5)\n",
        "c = np.random.randn(5, 3)\n",
        "\n",
        "print(np.round(a @ b, 2))\n",
        "print(np.round(b @ c))\n",
        "#print(np.round(a @ c)) # This throws a size mis match\n",
        "print(np.round(c.T @ a)) # Transpose of c is valid for mat mul"
      ],
      "metadata": {
        "colab": {
          "base_uri": "https://localhost:8080/"
        },
        "id": "B9ysvghHhwxw",
        "outputId": "2e0d20c7-3589-4435-ae3d-4a5c50d7abeb"
      },
      "execution_count": 3,
      "outputs": [
        {
          "output_type": "stream",
          "name": "stdout",
          "text": [
            "[[-1.72  0.35  1.04 -0.32 -0.55]\n",
            " [ 0.77 -1.3   1.94  0.05 -0.88]\n",
            " [ 0.17 -0.15  0.64  1.65 -5.11]\n",
            " [-0.12  2.15  2.21  0.02 -3.38]\n",
            " [ 1.7   0.32  0.18 -1.12  3.11]]\n",
            "[[-3.  0. -2.]\n",
            " [ 3. -3.  3.]\n",
            " [-2.  1.  1.]\n",
            " [ 3.  1. -0.]]\n",
            "[[-0.  1.  3.  4.]\n",
            " [ 1.  2.  1. -2.]\n",
            " [ 0. -2. -4.  3.]]\n"
          ]
        }
      ]
    },
    {
      "cell_type": "code",
      "source": [
        "z = [1, 2, 3]\n",
        "num = np.exp(z)\n",
        "den = np.sum( np.exp(z) )\n",
        "sigma = num / den\n",
        "print( sigma )\n",
        "print( np.sum(sigma) )"
      ],
      "metadata": {
        "colab": {
          "base_uri": "https://localhost:8080/"
        },
        "id": "wXGDM3FOiKxT",
        "outputId": "5ac07e29-10c5-436b-dcf7-7898f0b5cca7"
      },
      "execution_count": 4,
      "outputs": [
        {
          "output_type": "stream",
          "name": "stdout",
          "text": [
            "[0.09003057 0.24472847 0.66524096]\n",
            "1.0\n"
          ]
        }
      ]
    },
    {
      "cell_type": "code",
      "source": [
        "z = np.random.randint(-5, high = 15, size = 25)\n",
        "print(z)\n",
        "\n",
        "num = np.exp(z)\n",
        "den = np.sum( num )\n",
        "sigma = num / den\n",
        "\n",
        "plt.plot(z, sigma, 'ko')\n",
        "plt.xlabel('Original number (z)')\n",
        "plt.ylabel('Softmaxified $\\sigma$')\n",
        "plt.yscale('log')\n",
        "plt.title('$\\sum\\sigma$ = %g' %np.sum(sigma))\n",
        "plt.show()"
      ],
      "metadata": {
        "colab": {
          "base_uri": "https://localhost:8080/",
          "height": 513
        },
        "id": "BhIgxAm83k9P",
        "outputId": "832e0e62-55d1-4c95-8018-5bb2b33d724f"
      },
      "execution_count": 11,
      "outputs": [
        {
          "output_type": "stream",
          "name": "stdout",
          "text": [
            "[ 0 -2 -5 10 -5 -5  0 -4 10 10  5  3  0 -1 -5 -3 -2 -1  9  9  3  0  4 12\n",
            " 10]\n"
          ]
        },
        {
          "output_type": "display_data",
          "data": {
            "text/plain": [
              "<Figure size 640x480 with 1 Axes>"
            ],
            "image/png": "[encoded data removed]"
          },
          "metadata": {}
        }
      ]
    },
    {
      "cell_type": "code",
      "source": [
        "softfun = nn.Softmax(dim = 0)\n",
        "\n",
        "sigmaT = softfun( torch.Tensor(z) )\n",
        "\n",
        "print(sigmaT)\n",
        "\n",
        "plt.plot(sigma, sigmaT, 'ko')"
      ],
      "metadata": {
        "colab": {
          "base_uri": "https://localhost:8080/",
          "height": 537
        },
        "id": "OkKN5bSs_LZP",
        "outputId": "cf783caa-4bad-4d16-fb4d-6b1d7250685b"
      },
      "execution_count": 13,
      "outputs": [
        {
          "output_type": "stream",
          "name": "stdout",
          "text": [
            "tensor([3.7409e-06, 5.0628e-07, 2.5206e-08, 8.2399e-02, 2.5206e-08, 2.5206e-08,\n",
            "        3.7409e-06, 6.8517e-08, 8.2399e-02, 8.2399e-02, 5.5520e-04, 7.5138e-05,\n",
            "        3.7409e-06, 1.3762e-06, 2.5206e-08, 1.8625e-07, 5.0628e-07, 1.3762e-06,\n",
            "        3.0313e-02, 3.0313e-02, 7.5138e-05, 3.7409e-06, 2.0425e-04, 6.0885e-01,\n",
            "        8.2399e-02])\n"
          ]
        },
        {
          "output_type": "execute_result",
          "data": {
            "text/plain": [
              "[<matplotlib.lines.Line2D at 0x7e27ba9e3bb0>]"
            ]
          },
          "metadata": {},
          "execution_count": 13
        },
        {
          "output_type": "display_data",
          "data": {
            "text/plain": [
              "<Figure size 640x480 with 1 Axes>"
            ],
            "image/png": "[encoded data removed]"
          },
          "metadata": {}
        }
      ]
    },
    {
      "cell_type": "markdown",
      "source": [
        "Logs:"
      ],
      "metadata": {
        "id": "68H-r4DL_w7o"
      }
    },
    {
      "cell_type": "code",
      "source": [
        "x = np.linspace(0.0001, 1, 200)\n",
        "\n",
        "#compute log\n",
        "logx = np.log(x)\n",
        "\n",
        "#plot\n",
        "fig = plt.figure(figsize = (10, 4))\n",
        "\n",
        "# increase font size\n",
        "plt.rcParams.update({'font.size' : 15})\n",
        "plt.plot(x, logx, 'ks-', markerfacecolor = 'w')\n",
        "plt.xlabel('x')\n",
        "plt.xlabel('log(x)')\n",
        "plt.show()"
      ],
      "metadata": {
        "colab": {
          "base_uri": "https://localhost:8080/",
          "height": 400
        },
        "id": "btVaxXv0_wcs",
        "outputId": "b5ffd594-9719-44e8-da7a-e5cca46b9f82"
      },
      "execution_count": 14,
      "outputs": [
        {
          "output_type": "display_data",
          "data": {
            "text/plain": [
              "<Figure size 1000x400 with 1 Axes>"
            ],
            "image/png": "[encoded data removed]"
          },
          "metadata": {}
        }
      ]
    },
    {
      "cell_type": "markdown",
      "source": [
        "**ENTROPY AND CROSS** **ENTROPY**"
      ],
      "metadata": {
        "id": "TWg_7aueE9zN"
      }
    },
    {
      "cell_type": "code",
      "source": [
        "p = 0.25\n",
        "\n",
        "H = -( p*np.log(p) )\n",
        "print('Wrong entropy: ' + str(H)) #wrong because we also need to calculate for values of 1-p"
      ],
      "metadata": {
        "colab": {
          "base_uri": "https://localhost:8080/"
        },
        "id": "IXp8TKk8E9Kl",
        "outputId": "b293fc28-06a8-43ef-8560-b3a26de20fe4"
      },
      "execution_count": 15,
      "outputs": [
        {
          "output_type": "stream",
          "name": "stdout",
          "text": [
            "Wrong entropy: 0.34657359027997264\n"
          ]
        }
      ]
    },
    {
      "cell_type": "code",
      "source": [
        "p = 0.25\n",
        "q = 1-p\n",
        "x = [p, q]\n",
        "H = 0\n",
        "for p in x:\n",
        "  H -= ( p*np.log(p) )\n",
        "print('correct entropy: ' + str(H))"
      ],
      "metadata": {
        "colab": {
          "base_uri": "https://localhost:8080/"
        },
        "id": "31BCUB5jFHjJ",
        "outputId": "6fd732be-4a1d-48b7-ece8-90c3ccaa8632"
      },
      "execution_count": 17,
      "outputs": [
        {
          "output_type": "stream",
          "name": "stdout",
          "text": [
            "correct entropy: 0.5623351446188083\n"
          ]
        }
      ]
    },
    {
      "cell_type": "code",
      "source": [
        "# Also correct, written out for N = 2 events\n",
        "\n",
        "#Binary Cross-Entropy\n",
        "\n",
        "H = -( p*np.log(p) + (1-p)*np.log(1-p) ) # Ex: this picture is a cat or not a cat\n",
        "print('Correct Entropy: ' + str(H))"
      ],
      "metadata": {
        "colab": {
          "base_uri": "https://localhost:8080/"
        },
        "id": "9AjZh52gGCgu",
        "outputId": "a8886e71-b3e0-43af-d29a-d4116c67dd5d"
      },
      "execution_count": 18,
      "outputs": [
        {
          "output_type": "stream",
          "name": "stdout",
          "text": [
            "Correct Entropy: 0.5623351446188083\n"
          ]
        }
      ]
    },
    {
      "cell_type": "code",
      "source": [
        "# note: All probs must sum to 1!\n",
        "p = [1, 0]     #sum = 1\n",
        "q = [.25, .74] #sum = 1\n",
        "\n",
        "H = 0\n",
        "for i in range(len(p)):\n",
        "  H -= p[i]*np.log(q[i])\n",
        "\n",
        "print('Cross Entropy: ' + str(H))"
      ],
      "metadata": {
        "colab": {
          "base_uri": "https://localhost:8080/"
        },
        "id": "ct9dvpEzGf8G",
        "outputId": "5d1b6877-b08d-4436-d06f-307daa66da5c"
      },
      "execution_count": 20,
      "outputs": [
        {
          "output_type": "stream",
          "name": "stdout",
          "text": [
            "Cross Entropy: 1.3862943611198906\n"
          ]
        }
      ]
    },
    {
      "cell_type": "code",
      "source": [
        "#aslo correct, writte out for N = 2 events\n",
        "H = -( p[0]*np.log(q[0]) + p[1]*np.log(q[1]) )\n",
        "print('Correct entropy: ' + str(H))\n",
        "\n",
        "#simplification\n",
        "H = -np.log(q[0])\n",
        "print('Manually simplified: ', str(H))"
      ],
      "metadata": {
        "colab": {
          "base_uri": "https://localhost:8080/"
        },
        "id": "9TfdSQQcIRKA",
        "outputId": "2e9d68ac-81a3-4528-fc41-8a40d2e1e594"
      },
      "execution_count": 21,
      "outputs": [
        {
          "output_type": "stream",
          "name": "stdout",
          "text": [
            "Correct entropy: 1.3862943611198906\n",
            "Manually simplified:  1.3862943611198906\n"
          ]
        }
      ]
    },
    {
      "cell_type": "markdown",
      "source": [
        "Using PyTorch"
      ],
      "metadata": {
        "id": "DNBHUGksIs7w"
      }
    },
    {
      "cell_type": "code",
      "source": [
        "q_tensor = torch.Tensor(q)\n",
        "p_tensor = torch.Tensor(p)\n",
        "\n",
        "F.binary_cross_entropy(q_tensor, p_tensor)"
      ],
      "metadata": {
        "colab": {
          "base_uri": "https://localhost:8080/"
        },
        "id": "Cx7A1r9qIrTb",
        "outputId": "a32bc48a-3f07-480a-a5e2-90c520d9c78b"
      },
      "execution_count": 25,
      "outputs": [
        {
          "output_type": "execute_result",
          "data": {
            "text/plain": [
              "tensor(1.3667)"
            ]
          },
          "metadata": {},
          "execution_count": 25
        }
      ]
    }
  ]
}