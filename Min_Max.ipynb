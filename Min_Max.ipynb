{
  "nbformat": 4,
  "nbformat_minor": 0,
  "metadata": {
    "colab": {
      "provenance": [],
      "authorship_tag": "ABX9TyN99WkslV8dUBJaBKoVlcPA",
      "include_colab_link": true
    },
    "kernelspec": {
      "name": "python3",
      "display_name": "Python 3"
    },
    "language_info": {
      "name": "python"
    }
  },
  "cells": [
    {
      "cell_type": "markdown",
      "metadata": {
        "id": "view-in-github",
        "colab_type": "text"
      },
      "source": [
        "<a href=\"https://colab.research.google.com/github/VishalSingh1703/ML-Practice/blob/main/Min_Max.ipynb\" target=\"_parent\"><img src=\"https://colab.research.google.com/assets/colab-badge.svg\" alt=\"Open In Colab\"/></a>"
      ]
    },
    {
      "cell_type": "code",
      "execution_count": 1,
      "metadata": {
        "id": "q-RmtaIWFck_"
      },
      "outputs": [],
      "source": [
        "import numpy as np\n",
        "import torch\n",
        "import torch.nn as nn"
      ]
    },
    {
      "cell_type": "code",
      "source": [
        "v = np.array([1, 40, 2, -3])\n",
        "\n",
        "# find the max and min values:\n",
        "minval = np.min(v)\n",
        "maxval = np.max(v)\n",
        "\n",
        "\n",
        "minidx = np.argmin(v)\n",
        "maxidx = np.argmax(v)\n",
        "\n",
        "print(v)\n",
        "print('The min value is: ' + str(minval))\n",
        "print('And its index is: ' + str(minidx))\n",
        "print('The max value is: ' + str(maxval))\n",
        "print('And its index is: ' + str(maxidx))"
      ],
      "metadata": {
        "colab": {
          "base_uri": "https://localhost:8080/"
        },
        "id": "iCy_V6XmFtrF",
        "outputId": "b63548ac-5e24-4e09-b88f-996071b21923"
      },
      "execution_count": 4,
      "outputs": [
        {
          "output_type": "stream",
          "name": "stdout",
          "text": [
            "[ 1 40  2 -3]\n",
            "The min value is: -3\n",
            "And its index is: 3\n",
            "The max value is: 40\n",
            "And its index is: 1\n"
          ]
        }
      ]
    },
    {
      "cell_type": "code",
      "source": [
        "M = np.array([\n",
        "    [0, 1, 10],\n",
        "    [20, 8, 5]\n",
        "])\n",
        "\n",
        "print(M), print(' ')\n",
        "\n",
        "m1 = np.min(M) # Return the minimum of the entire matrix\n",
        "m1idx = np.argmin(M)\n",
        "m2 = np.min(M, axis = 0) # Returns the min of each col\n",
        "m2idx = np.argmin(M, axis = 0) # Returns the min of each col\n",
        "m3 = np.min(M, axis = 1) # Returns the min of each row\n",
        "m3idx = np.argmin(M, axis = 1) # Returns the min of each row\n",
        "\n",
        "print('The min values are:             ' + str(m1))\n",
        "print('And its index are:              ' + str(m1idx))\n",
        "print('The min of each col values are: ' + str(m2))\n",
        "print('And their indexes are:          ' + str(m2idx))\n",
        "print('The min values of each row are: ' + str(m3))\n",
        "print('And their indexes are:          ' + str(m3idx))"
      ],
      "metadata": {
        "colab": {
          "base_uri": "https://localhost:8080/"
        },
        "id": "2UctpY_GGc0T",
        "outputId": "6e03db2b-46f8-4c5f-9d53-2ed46952d6e5"
      },
      "execution_count": 9,
      "outputs": [
        {
          "output_type": "stream",
          "name": "stdout",
          "text": [
            "[[ 0  1 10]\n",
            " [20  8  5]]\n",
            " \n",
            "The min values are:             0\n",
            "And its index are:              0\n",
            "The min of each col values are: [0 1 5]\n",
            "And their indexes are:          [0 0 1]\n",
            "The min values of each row are: [0 5]\n",
            "And their indexes are:          [0 2]\n"
          ]
        }
      ]
    },
    {
      "cell_type": "code",
      "source": [
        "v = torch.tensor([ 1, 40, 2, -3 ])\n",
        "\n",
        "minval = torch.min(v)\n",
        "maxval = torch.max(v)\n",
        "\n",
        "minidx = torch.argmin(v)\n",
        "maxidx = torch.argmax(v)\n",
        "\n",
        "print(v)\n",
        "print('The min value is: ' + str(minval))\n",
        "print('And its index is: ' + str(minidx))\n",
        "print('The max value is: ' + str(maxval))\n",
        "print('And its index is: ' + str(maxidx))"
      ],
      "metadata": {
        "colab": {
          "base_uri": "https://localhost:8080/"
        },
        "id": "a-gVxZtUIJ1e",
        "outputId": "90146bd3-4643-4026-adbe-b8af6836d48e"
      },
      "execution_count": 10,
      "outputs": [
        {
          "output_type": "stream",
          "name": "stdout",
          "text": [
            "tensor([ 1, 40,  2, -3])\n",
            "The min value is: tensor(-3)\n",
            "And its index is: tensor(3)\n",
            "The max value is: tensor(40)\n",
            "And its index is: tensor(1)\n"
          ]
        }
      ]
    },
    {
      "cell_type": "code",
      "source": [
        "M = torch.tensor([\n",
        "    [0, 1, 10],\n",
        "    [20, 8, 5]\n",
        "])\n",
        "\n",
        "m1 = torch.min(M) # Return the minimum of the entire matrix\n",
        "m1idx = torch.argmin(M)\n",
        "m2 = torch.min(M, axis = 0) # Returns the min of each col\n",
        "m2idx = torch.argmin(M, axis = 0) # Returns the min of each col\n",
        "m3 = torch.min(M, axis = 1) # Returns the min of each row\n",
        "m3idx = torch.argmin(M, axis = 1) # Returns the min of each row\n",
        "\n",
        "print('The min values are:             ' + str(m1))\n",
        "print('And its index are:              ' + str(m1idx))\n",
        "print('The min of each col values are: ' + str(m2.values))\n",
        "print('And their indexes are:          ' + str(m2idx))\n",
        "print('The min values of each row are: ' + str(m3.values))\n",
        "print('And their indexes are:          ' + str(m3idx))"
      ],
      "metadata": {
        "colab": {
          "base_uri": "https://localhost:8080/"
        },
        "id": "94Nd_uIGMVfn",
        "outputId": "9adcb143-e5ec-4816-d6b8-db6d7739b2e5"
      },
      "execution_count": 15,
      "outputs": [
        {
          "output_type": "stream",
          "name": "stdout",
          "text": [
            "The min values are:             tensor(0)\n",
            "And its index are:              tensor(0)\n",
            "The min of each col values are: tensor([0, 1, 5])\n",
            "And their indexes are:          tensor([0, 0, 1])\n",
            "The min values of each row are: tensor([0, 5])\n",
            "And their indexes are:          tensor([0, 2])\n",
            "3\n"
          ]
        }
      ]
    }
  ]
}