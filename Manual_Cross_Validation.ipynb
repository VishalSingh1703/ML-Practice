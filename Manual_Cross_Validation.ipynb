{
  "nbformat": 4,
  "nbformat_minor": 0,
  "metadata": {
    "colab": {
      "provenance": [],
      "authorship_tag": "ABX9TyMTSf1AnLR+x05aU9DvrgSl",
      "include_colab_link": true
    },
    "kernelspec": {
      "name": "python3",
      "display_name": "Python 3"
    },
    "language_info": {
      "name": "python"
    }
  },
  "cells": [
    {
      "cell_type": "markdown",
      "metadata": {
        "id": "view-in-github",
        "colab_type": "text"
      },
      "source": [
        "<a href=\"https://colab.research.google.com/github/VishalSingh1703/ML-Practice/blob/main/Manual_Cross_Validation.ipynb\" target=\"_parent\"><img src=\"https://colab.research.google.com/assets/colab-badge.svg\" alt=\"Open In Colab\"/></a>"
      ]
    },
    {
      "cell_type": "code",
      "execution_count": 38,
      "metadata": {
        "id": "x1BFJsKeno9K"
      },
      "outputs": [],
      "source": [
        "import numpy as np\n",
        "import torch\n",
        "import torch.nn as nn\n",
        "import seaborn as sns"
      ]
    },
    {
      "cell_type": "code",
      "source": [
        "iris = sns.load_dataset('iris')\n",
        "\n",
        "data = torch.tensor( iris[iris.columns[0:4]].values ).float()\n",
        "\n",
        "labels = torch.zeros(len(data), dtype = torch.long)\n",
        "\n",
        "labels[iris.species == 'versicolor'] = 1\n",
        "labels[iris.species == 'virginica'] = 2"
      ],
      "metadata": {
        "id": "eGByTEj-tIA4"
      },
      "execution_count": 39,
      "outputs": []
    },
    {
      "cell_type": "code",
      "source": [
        "propTraining = 0.8\n",
        "nTraining = int(len(labels)*propTraining)\n",
        "\n",
        "traintestBool = np.zeros(len(labels), dtype = bool)\n",
        "\n",
        "# traintestBool[range(nTraining)] = True\n",
        "\n",
        "item = np.random.choice(range(len(labels)), nTraining, replace = False)\n",
        "traintestBool[item] = True\n",
        "traintestBool"
      ],
      "metadata": {
        "colab": {
          "base_uri": "https://localhost:8080/"
        },
        "id": "xIBP8A-nt5t-",
        "outputId": "89884066-7181-4049-d786-69261dde5bbc"
      },
      "execution_count": 40,
      "outputs": [
        {
          "output_type": "execute_result",
          "data": {
            "text/plain": [
              "array([ True,  True,  True,  True,  True,  True,  True,  True,  True,\n",
              "        True,  True,  True,  True,  True,  True, False, False,  True,\n",
              "        True,  True,  True,  True, False,  True, False,  True,  True,\n",
              "        True,  True,  True,  True, False,  True,  True,  True,  True,\n",
              "        True,  True,  True,  True,  True, False,  True,  True,  True,\n",
              "        True,  True, False,  True, False,  True,  True, False, False,\n",
              "       False,  True,  True,  True,  True,  True,  True, False,  True,\n",
              "        True,  True,  True, False,  True,  True,  True,  True,  True,\n",
              "        True,  True,  True,  True,  True,  True,  True,  True,  True,\n",
              "        True,  True,  True,  True, False,  True, False, False,  True,\n",
              "        True, False,  True,  True,  True, False,  True,  True,  True,\n",
              "       False,  True,  True,  True, False,  True,  True, False,  True,\n",
              "       False,  True,  True,  True, False,  True,  True,  True,  True,\n",
              "       False,  True,  True,  True,  True,  True,  True,  True, False,\n",
              "        True,  True,  True, False, False,  True,  True,  True, False,\n",
              "        True,  True,  True,  True,  True,  True,  True, False,  True,\n",
              "        True, False,  True,  True,  True,  True])"
            ]
          },
          "metadata": {},
          "execution_count": 40
        }
      ]
    },
    {
      "cell_type": "code",
      "source": [
        "print('Average of full Data: ')\n",
        "print(torch.mean(labels.float())) # =1 by defination\n",
        "print(' ')\n",
        "\n",
        "print('Average of training Data: ')\n",
        "print(torch.mean(labels[traintestBool].float())) # =1 by defination\n",
        "print(' ')\n",
        "\n",
        "print('Average of test Data: ')\n",
        "print(torch.mean(labels[~traintestBool].float())) # =1 by defination"
      ],
      "metadata": {
        "colab": {
          "base_uri": "https://localhost:8080/"
        },
        "id": "ufF1_TZgud39",
        "outputId": "7ff38d1e-91b4-49fb-8dc0-fcc4e6ae01a2"
      },
      "execution_count": 41,
      "outputs": [
        {
          "output_type": "stream",
          "name": "stdout",
          "text": [
            "Average of full Data: \n",
            "tensor(1.)\n",
            " \n",
            "Average of training Data: \n",
            "tensor(0.9750)\n",
            " \n",
            "Average of test Data: \n",
            "tensor(1.1000)\n"
          ]
        }
      ]
    },
    {
      "cell_type": "code",
      "source": [
        "ANNiris = nn.Sequential (\n",
        "    nn.Linear(4, 64),\n",
        "    nn.ReLU(),\n",
        "    nn.Linear(64, 64),\n",
        "    nn.ReLU(),\n",
        "    nn.Linear(64, 3)\n",
        ")\n",
        "\n",
        "lossfun = nn.CrossEntropyLoss()\n",
        "\n",
        "optimizer = torch.optim.SGD(ANNiris.parameters(), lr = 0.1)"
      ],
      "metadata": {
        "id": "2sUVdVbxvIhU"
      },
      "execution_count": 42,
      "outputs": []
    },
    {
      "cell_type": "code",
      "source": [
        "print(data.shape)\n",
        "print(data[traintestBool,:].shape)\n",
        "print(data[~traintestBool,:].shape)"
      ],
      "metadata": {
        "colab": {
          "base_uri": "https://localhost:8080/"
        },
        "id": "8HfsDDhpxAnY",
        "outputId": "f706af61-73b2-4a69-de6e-4c29d7c1d926"
      },
      "execution_count": 43,
      "outputs": [
        {
          "output_type": "stream",
          "name": "stdout",
          "text": [
            "torch.Size([150, 4])\n",
            "torch.Size([120, 4])\n",
            "torch.Size([30, 4])\n"
          ]
        }
      ]
    },
    {
      "cell_type": "code",
      "source": [
        "epochs = 1000\n",
        "\n",
        "losses = torch.zeros(epochs)\n",
        "ongoingAcc = []\n",
        "\n",
        "for epochi in range(epochs):\n",
        "  yHat = ANNiris(data[traintestBool,:])\n",
        "\n",
        "  ongoingAcc.append(100*torch.mean(\n",
        "              (torch.argmax(yHat,axis=1) == labels[traintestBool]).float()))\n",
        "  loss = lossfun(yHat, labels[traintestBool])\n",
        "  losses[epochi] = loss\n",
        "\n",
        "  optimizer.zero_grad()\n",
        "  loss.backward()\n",
        "  optimizer.step()"
      ],
      "metadata": {
        "id": "sItbr1dPxI_I"
      },
      "execution_count": 44,
      "outputs": []
    },
    {
      "cell_type": "code",
      "source": [
        "predictions = ANNiris(data[traintestBool,:])\n",
        "trainacc = 100*torch.mean((torch.argmax(predictions, axis = 1) == labels[traintestBool]).float())\n",
        "\n",
        "predictions = ANNiris(data[~traintestBool,:])\n",
        "testacc = 100*torch.mean((torch.argmax(predictions, axis = 1) == labels[~traintestBool]).float())"
      ],
      "metadata": {
        "id": "2qgwuH_myUlu"
      },
      "execution_count": 45,
      "outputs": []
    },
    {
      "cell_type": "code",
      "source": [
        "print(\"Train Acc: %g%%\" %trainacc)\n",
        "print(\"Test Acc: %g%%\" %testacc)"
      ],
      "metadata": {
        "colab": {
          "base_uri": "https://localhost:8080/"
        },
        "id": "rbTw03kJz1hT",
        "outputId": "43edbab4-e05a-4357-8183-09be12c572ed"
      },
      "execution_count": 46,
      "outputs": [
        {
          "output_type": "stream",
          "name": "stdout",
          "text": [
            "Train Acc: 96.6667%\n",
            "Test Acc: 100%\n"
          ]
        }
      ]
    },
    {
      "cell_type": "code",
      "source": [],
      "metadata": {
        "id": "hMAV5ypa0ME1"
      },
      "execution_count": 46,
      "outputs": []
    }
  ]
}