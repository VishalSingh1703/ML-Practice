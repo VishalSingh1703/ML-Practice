{
  "nbformat": 4,
  "nbformat_minor": 0,
  "metadata": {
    "colab": {
      "provenance": [],
      "authorship_tag": "ABX9TyOPDaNq4Ewr3BAi14ICqJZe",
      "include_colab_link": true
    },
    "kernelspec": {
      "name": "python3",
      "display_name": "Python 3"
    },
    "language_info": {
      "name": "python"
    }
  },
  "cells": [
    {
      "cell_type": "markdown",
      "metadata": {
        "id": "view-in-github",
        "colab_type": "text"
      },
      "source": [
        "<a href=\"https://colab.research.google.com/github/VishalSingh1703/ML-Practice/blob/main/Mean_Varience_Random.ipynb\" target=\"_parent\"><img src=\"https://colab.research.google.com/assets/colab-badge.svg\" alt=\"Open In Colab\"/></a>"
      ]
    },
    {
      "cell_type": "code",
      "execution_count": 35,
      "metadata": {
        "id": "GzeeGjmVLr2L"
      },
      "outputs": [],
      "source": [
        "import torch\n",
        "import numpy as np\n",
        "import matplotlib.pyplot as plt"
      ]
    },
    {
      "cell_type": "code",
      "source": [
        "# Mean\n",
        "x = [1, 2, 4, 6, 5, 4, 0]\n",
        "n = len(x)\n",
        "\n",
        "mean1 = np.mean(x)\n",
        "mean2 = np.sum(x) / n\n",
        "\n",
        "print(mean1)\n",
        "print(mean2)"
      ],
      "metadata": {
        "colab": {
          "base_uri": "https://localhost:8080/"
        },
        "id": "AxofI6Hbs1SE",
        "outputId": "2e101845-9bb0-44b2-8311-bcdba73a8904"
      },
      "execution_count": 8,
      "outputs": [
        {
          "output_type": "stream",
          "name": "stdout",
          "text": [
            "3.142857142857143\n",
            "3.142857142857143\n"
          ]
        }
      ]
    },
    {
      "cell_type": "code",
      "source": [
        "# Varience\n",
        "var1 = np.var(x) # Biased Varience\n",
        "var2 = (1 / (n - 1) ) * np.sum( (x - mean1) ** 2 ) # Unbiased Varience\n",
        "\n",
        "print(var1)\n",
        "print(var2)"
      ],
      "metadata": {
        "colab": {
          "base_uri": "https://localhost:8080/"
        },
        "id": "tx7bsmR6tBDI",
        "outputId": "870b822d-bb21-4d23-a3ae-d6935d19357d"
      },
      "execution_count": 13,
      "outputs": [
        {
          "output_type": "stream",
          "name": "stdout",
          "text": [
            "4.122448979591836\n",
            "4.809523809523809\n"
          ]
        }
      ]
    },
    {
      "cell_type": "code",
      "source": [
        "x = np.random.randint(-10, 10, size = 17)\n",
        "n = len(x)\n",
        "\n",
        "# compute the population mean\n",
        "popmean = np.mean(x)\n",
        "\n",
        "# computer a sample mean\n",
        "sample = np.random.choice(x, size = 5, replace = True)\n",
        "sampMean = np.mean(sample)\n",
        "\n",
        "print(x)\n",
        "print(popmean)\n",
        "print(sampMean)"
      ],
      "metadata": {
        "colab": {
          "base_uri": "https://localhost:8080/"
        },
        "id": "TjmWCkrlvfoH",
        "outputId": "89314bd7-8b3b-4c38-ca24-1d8559c1f39d"
      },
      "execution_count": 22,
      "outputs": [
        {
          "output_type": "stream",
          "name": "stdout",
          "text": [
            "[ 8 -3  2  8 -4 -8  3  0 -5  5 -6 -4  1 -4  0  0  6]\n",
            "-0.058823529411764705\n",
            "-2.0\n"
          ]
        }
      ]
    },
    {
      "cell_type": "code",
      "source": [
        "# compute lots of sample means\n",
        "# number of experiments to run\n",
        "nExpers = 10000\n",
        "\n",
        "sampleMeans = np.zeros(nExpers)\n",
        "for i in range(nExpers):\n",
        "  # step 1: draw a sample\n",
        "  sample = np.random.choice(x, size = 50, replace = True)\n",
        "\n",
        "  #step 2: compute its mean\n",
        "  sampleMeans[i] = np.mean(sample)\n",
        "\n",
        "#show res in hist\n",
        "plt.hist(sampleMeans, bins = 40, density = True)\n",
        "plt.plot([popmean, popmean], [0, .3], 'm--')\n",
        "plt.ylabel('count')\n",
        "plt.xlabel('sample mean')\n",
        "plt.show()"
      ],
      "metadata": {
        "colab": {
          "base_uri": "https://localhost:8080/",
          "height": 449
        },
        "id": "GW5ZIx6zwepJ",
        "outputId": "1b41939f-b088-4258-a3be-703e19cc5728"
      },
      "execution_count": 26,
      "outputs": [
        {
          "output_type": "display_data",
          "data": {
            "text/plain": [
              "<Figure size 640x480 with 1 Axes>"
            ],
            "image/png": "[encoded data removed]"
          },
          "metadata": {}
        }
      ]
    },
    {
      "cell_type": "markdown",
      "source": [
        "Fixing Random Numbers"
      ],
      "metadata": {
        "id": "XYlszurpyJ_S"
      }
    },
    {
      "cell_type": "code",
      "source": [
        "# using numpy\n",
        "np.random.seed(17)\n",
        "print(np.random.randn(5))\n",
        "print(np.random.randn(5))"
      ],
      "metadata": {
        "colab": {
          "base_uri": "https://localhost:8080/"
        },
        "id": "mq2c_Mn8x-3s",
        "outputId": "e48917d2-e5e5-419d-89c5-683dd53f56bd"
      },
      "execution_count": 31,
      "outputs": [
        {
          "output_type": "stream",
          "name": "stdout",
          "text": [
            "[ 0.07942844  2.19020236 -0.13489215  0.16051798  0.44269784]\n",
            "[ 0.62339144  1.00890349  0.39424879 -0.3363867  -0.64590646]\n"
          ]
        }
      ]
    },
    {
      "cell_type": "code",
      "source": [
        "# using PyTroch\n",
        "torch.manual_seed(17)\n",
        "print(torch.randn(15))\n",
        "\n",
        "# torch's seed doesn't spread to numpy\n",
        "print( np.random.randn(5) )"
      ],
      "metadata": {
        "colab": {
          "base_uri": "https://localhost:8080/"
        },
        "id": "9AzyPhoDyij5",
        "outputId": "b6c3e62c-f319-4d83-ad67-6d89524b8be8"
      },
      "execution_count": 36,
      "outputs": [
        {
          "output_type": "stream",
          "name": "stdout",
          "text": [
            "tensor([-1.4135,  0.2336,  0.0340,  0.3499, -0.0145, -0.6124, -1.1835, -1.4831,\n",
            "         1.8004,  0.0096,  0.1534, -2.6631, -1.4311, -0.5483,  0.3232])\n",
            "[ 0.80545771  0.41644284  0.57461975 -1.10167133 -0.99475687]\n"
          ]
        }
      ]
    }
  ]
}